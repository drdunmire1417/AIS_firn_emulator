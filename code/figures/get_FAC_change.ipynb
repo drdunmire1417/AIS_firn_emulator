{
 "cells": [
  {
   "cell_type": "code",
   "execution_count": 1,
   "id": "e8ab9e2c-b426-4cd2-96c2-9f89edd18457",
   "metadata": {},
   "outputs": [],
   "source": [
    "import xarray as xr\n",
    "import matplotlib.pyplot as plt\n",
    "import numpy as np\n",
    "import pandas as pd\n",
    "import pickle\n",
    "from scipy.ndimage.filters import uniform_filter1d\n",
    "from matplotlib.gridspec import GridSpec\n",
    "import geopandas as gpd\n",
    "import regionmask\n",
    "\n",
    "from glob import glob\n",
    "from cartopy.util import add_cyclic_point\n",
    "from scipy.stats import ttest_rel\n",
    "\n",
    "from scipy.stats import linregress\n",
    "import statsmodels.api as sm"
   ]
  },
  {
   "cell_type": "code",
   "execution_count": 2,
   "id": "5ab5541e-9a8b-401a-a4f2-1dae5e445e7a",
   "metadata": {},
   "outputs": [],
   "source": [
    "run = 'TP1'\n",
    "scenario = 'ssp1'\n",
    "\n",
    "data = xr.open_dataset(f'netcdf_results/emulator_results/{scenario}_fac_{run}.nc')"
   ]
  },
  {
   "cell_type": "code",
   "execution_count": 13,
   "id": "aaeb30ce-0a6b-4195-869c-325a402749a7",
   "metadata": {},
   "outputs": [],
   "source": [
    "end = data.isel(year = -1).fac.quantile(0.5, dim = 'model')\n",
    "start = data.isel(year = 0).fac.quantile(0.5, dim = 'model')\n",
    "change = end-start\n",
    "\n",
    "change.to_netcdf(f'netcdf_results/fac_change/{scenario}_change{run}.nc')"
   ]
  }
 ],
 "metadata": {
  "kernelspec": {
   "display_name": "Python [conda env:my_env]",
   "language": "python",
   "name": "conda-env-my_env-py"
  },
  "language_info": {
   "codemirror_mode": {
    "name": "ipython",
    "version": 3
   },
   "file_extension": ".py",
   "mimetype": "text/x-python",
   "name": "python",
   "nbconvert_exporter": "python",
   "pygments_lexer": "ipython3",
   "version": "3.7.12"
  }
 },
 "nbformat": 4,
 "nbformat_minor": 5
}
