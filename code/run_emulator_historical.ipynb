{
 "cells": [
  {
   "cell_type": "code",
   "execution_count": 1,
   "id": "e31dace2-c9d3-4ea4-8c04-611dd6c88126",
   "metadata": {},
   "outputs": [],
   "source": [
    "import pickle\n",
    "import numpy as np\n",
    "import pandas as pd\n",
    "import xarray as xr\n",
    "import matplotlib.pyplot as plt\n",
    "import random\n",
    "from sklearn.model_selection import train_test_split\n",
    "from sklearn.ensemble import RandomForestRegressor\n",
    "from joblib import dump, load\n",
    "from cartopy.util import add_cyclic_point\n",
    "\n",
    "import warnings\n",
    "warnings.filterwarnings('ignore')\n",
    "\n",
    "import matplotlib.path as mpath\n",
    "import cartopy\n",
    "import cartopy.crs as ccrs\n",
    "from matplotlib.gridspec import GridSpec\n",
    "import geopandas as gpd\n",
    "crs_sp = ccrs.SouthPolarStereo(central_longitude=0)\n",
    "crs_ll = ccrs.PlateCarree()"
   ]
  },
  {
   "cell_type": "markdown",
   "id": "477e3c95-a2ce-4d92-bc86-970339283460",
   "metadata": {},
   "source": [
    "## Load data"
   ]
  },
  {
   "cell_type": "code",
   "execution_count": 5,
   "id": "ca5e0122-9c1d-4379-a631-da5ef0f734d9",
   "metadata": {},
   "outputs": [],
   "source": [
    "#ERA5 data\n",
    "era = xr.open_dataset('/glade/work/devond/ERA5/era_1985_2015.nc')\n",
    "era_precip = era.pr\n",
    "era_ws_annual = era.wind\n",
    "era_ta_annual = era.ta\n",
    "era_ta_summer = era.ta_s"
   ]
  },
  {
   "cell_type": "code",
   "execution_count": 19,
   "id": "deda3618-204f-4753-9fc0-fff8414663df",
   "metadata": {},
   "outputs": [],
   "source": [
    "def run_emulator(precip, ws, ta_a, ta_s, m):\n",
    "    #prepare data for emulator\n",
    "    pr = precip.rolling(year=10, center=True).mean(dim='year').dropna(\"year\")\n",
    "    ws = ws.rolling(year=10, center=True).mean(dim='year').dropna(\"year\")\n",
    "    ta_a = ta_a.rolling(year=10, center=True).mean(dim='year').dropna(\"year\")\n",
    "    ta_s = ta_s.rolling(year=10, center=True).mean(dim='year').dropna(\"year\")\n",
    "\n",
    "    precip = pr.mean(dim = 'year').values\n",
    "    wind = ws.mean(dim = 'year').values\n",
    "    temp = ta_a.mean(dim = 'year').values\n",
    "    temp_summer = ta_s.mean(dim = 'year').values\n",
    "    \n",
    "    X = np.vstack([precip.flatten(), wind.flatten(), temp.flatten(), temp_summer.flatten()]).T\n",
    "    X = (X-means)/stds\n",
    "    \n",
    "    #run emulator\n",
    "    fac = regr.predict(X)\n",
    "    fac_reshape = fac.reshape(precip.shape)\n",
    "    \n",
    "    lon = pr.lon.values\n",
    "    lat = pr.lat.values\n",
    "        \n",
    "    #create dataset\n",
    "    current = xr.Dataset(\n",
    "        data_vars=dict(\n",
    "            pr=([\"lat\", \"lon\"], precip),\n",
    "            wind=([\"lat\", \"lon\"], wind),\n",
    "            ta=([\"lat\", \"lon\"], temp),\n",
    "            ta_s=([\"lat\", \"lon\"], temp_summer),\n",
    "            fac=([\"lat\", \"lon\"], fac_reshape),\n",
    "        ),\n",
    "        coords=dict(\n",
    "            lon=lon,\n",
    "            lat=lat,\n",
    "        ),\n",
    "    )\n",
    "    \n",
    "    return current\n",
    "\n",
    "def load_model(run):\n",
    "    with open(f'/glade/work/devond/FAC/emulators/weights_{run}.p','rb') as fp: #load means and standard deviations to standardize data for random forest prediction\n",
    "        weights = pickle.load(fp)\n",
    "        means = weights[0]\n",
    "        stds = weights[1]\n",
    "    \n",
    "    return means, stds\n",
    "    "
   ]
  },
  {
   "cell_type": "code",
   "execution_count": 27,
   "id": "441b329e-b06b-4b3f-a226-1ef0d7b7c097",
   "metadata": {},
   "outputs": [],
   "source": [
    "run = 'TP1'\n",
    "regr = load(f'emulators/random_forest_{run}.sav') #load in random forest regressor\n",
    "means, stds = load_model(run)\n",
    "\n",
    "era_ds = run_emulator(era_precip, era_ws_annual, era_ta_annual, era_ta_summer, 'ERA')\n",
    "era_ds.to_netcdf(f'netcdf_results/emulator_FAC/era_{run}.nc')"
   ]
  },
  {
   "cell_type": "code",
   "execution_count": null,
   "id": "86ac58c8-4073-44c1-bdbd-32884af0f9ec",
   "metadata": {},
   "outputs": [],
   "source": []
  }
 ],
 "metadata": {
  "kernelspec": {
   "display_name": "Python [conda env:my_env]",
   "language": "python",
   "name": "conda-env-my_env-py"
  },
  "language_info": {
   "codemirror_mode": {
    "name": "ipython",
    "version": 3
   },
   "file_extension": ".py",
   "mimetype": "text/x-python",
   "name": "python",
   "nbconvert_exporter": "python",
   "pygments_lexer": "ipython3",
   "version": "3.7.12"
  }
 },
 "nbformat": 4,
 "nbformat_minor": 5
}
